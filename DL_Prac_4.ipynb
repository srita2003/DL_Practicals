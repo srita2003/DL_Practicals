{
  "nbformat": 4,
  "nbformat_minor": 0,
  "metadata": {
    "colab": {
      "provenance": [],
      "authorship_tag": "ABX9TyOuvvaXEVsG3+XwtJoA6H/6",
      "include_colab_link": true
    },
    "kernelspec": {
      "name": "python3",
      "display_name": "Python 3"
    },
    "language_info": {
      "name": "python"
    }
  },
  "cells": [
    {
      "cell_type": "markdown",
      "metadata": {
        "id": "view-in-github",
        "colab_type": "text"
      },
      "source": [
        "<a href=\"https://colab.research.google.com/github/srita2003/DL_Practicals/blob/main/DL_Prac_4.ipynb\" target=\"_parent\"><img src=\"https://colab.research.google.com/assets/colab-badge.svg\" alt=\"Open In Colab\"/></a>"
      ]
    },
    {
      "cell_type": "code",
      "execution_count": 1,
      "metadata": {
        "id": "WWLZagkrmB32"
      },
      "outputs": [],
      "source": [
        "# Import required libraries\n",
        "import tensorflow as tf\n",
        "from tensorflow.keras.datasets import mnist\n",
        "from tensorflow.keras.models import Sequential\n",
        "from tensorflow.keras.layers import Dense, Flatten\n",
        "from tensorflow.keras.utils import to_categorical\n",
        "import matplotlib.pyplot as plt\n"
      ]
    },
    {
      "cell_type": "code",
      "source": [
        "# 1. Load MNIST dataset\n",
        "(x_train, y_train), (x_test, y_test) = mnist.load_data()"
      ],
      "metadata": {
        "colab": {
          "base_uri": "https://localhost:8080/"
        },
        "id": "z9Iz6kLimi3N",
        "outputId": "702f6b6c-a1f7-4d55-bc76-48bc6016fd4a"
      },
      "execution_count": 2,
      "outputs": [
        {
          "output_type": "stream",
          "name": "stdout",
          "text": [
            "Downloading data from https://storage.googleapis.com/tensorflow/tf-keras-datasets/mnist.npz\n",
            "\u001b[1m11490434/11490434\u001b[0m \u001b[32m━━━━━━━━━━━━━━━━━━━━\u001b[0m\u001b[37m\u001b[0m \u001b[1m1s\u001b[0m 0us/step\n"
          ]
        }
      ]
    },
    {
      "cell_type": "code",
      "source": [
        "# Normalize pixel values to [0,1]\n",
        "x_train = x_train / 255.0\n",
        "x_test = x_test / 255.0"
      ],
      "metadata": {
        "id": "F4ob8yWSml3U"
      },
      "execution_count": 3,
      "outputs": []
    },
    {
      "cell_type": "code",
      "source": [
        "# One-hot encode labels\n",
        "y_train = to_categorical(y_train, 10)\n",
        "y_test = to_categorical(y_test, 10)"
      ],
      "metadata": {
        "id": "kEZSbXaVmneN"
      },
      "execution_count": 4,
      "outputs": []
    },
    {
      "cell_type": "code",
      "source": [
        "# 2. Build Neural Network model\n",
        "model = Sequential([\n",
        "    Flatten(input_shape=(28, 28)),       # Flatten 28x28 image to 784 vector\n",
        "    Dense(128, activation='relu'),       # Hidden layer with 128 neurons\n",
        "    Dense(64, activation='relu'),        # Hidden layer with 64 neurons\n",
        "    Dense(10, activation='softmax')      # Output layer (10 classes: digits 0–9)\n",
        "])"
      ],
      "metadata": {
        "colab": {
          "base_uri": "https://localhost:8080/"
        },
        "id": "mVakdRiXmpUt",
        "outputId": "46b7e6d9-e38e-400b-a8cf-e13b5a1a952b"
      },
      "execution_count": 5,
      "outputs": [
        {
          "output_type": "stream",
          "name": "stderr",
          "text": [
            "/usr/local/lib/python3.12/dist-packages/keras/src/layers/reshaping/flatten.py:37: UserWarning: Do not pass an `input_shape`/`input_dim` argument to a layer. When using Sequential models, prefer using an `Input(shape)` object as the first layer in the model instead.\n",
            "  super().__init__(**kwargs)\n"
          ]
        }
      ]
    },
    {
      "cell_type": "code",
      "source": [
        "# 3. Compile model\n",
        "model.compile(optimizer='adam',\n",
        "              loss='categorical_crossentropy',\n",
        "              metrics=['accuracy'])\n"
      ],
      "metadata": {
        "id": "JHJfAclkmrxz"
      },
      "execution_count": 8,
      "outputs": []
    },
    {
      "cell_type": "code",
      "source": [
        "# 4. Train model\n",
        "history = model.fit(x_train, y_train,\n",
        "                    validation_split=0.1,\n",
        "                    epochs=10,\n",
        "                    batch_size=128,\n",
        "                    verbose=2)"
      ],
      "metadata": {
        "colab": {
          "base_uri": "https://localhost:8080/"
        },
        "id": "GTr02QeMmtcp",
        "outputId": "cf130e4c-0f06-481f-b826-27abf52456c6"
      },
      "execution_count": 9,
      "outputs": [
        {
          "output_type": "stream",
          "name": "stdout",
          "text": [
            "Epoch 1/10\n",
            "422/422 - 3s - 8ms/step - accuracy: 0.8980 - loss: 0.3608 - val_accuracy: 0.9627 - val_loss: 0.1405\n",
            "Epoch 2/10\n",
            "422/422 - 2s - 5ms/step - accuracy: 0.9580 - loss: 0.1439 - val_accuracy: 0.9725 - val_loss: 0.1011\n",
            "Epoch 3/10\n",
            "422/422 - 2s - 5ms/step - accuracy: 0.9706 - loss: 0.0968 - val_accuracy: 0.9740 - val_loss: 0.0915\n",
            "Epoch 4/10\n",
            "422/422 - 3s - 7ms/step - accuracy: 0.9780 - loss: 0.0728 - val_accuracy: 0.9743 - val_loss: 0.0818\n",
            "Epoch 5/10\n",
            "422/422 - 3s - 7ms/step - accuracy: 0.9830 - loss: 0.0569 - val_accuracy: 0.9782 - val_loss: 0.0764\n",
            "Epoch 6/10\n",
            "422/422 - 2s - 4ms/step - accuracy: 0.9868 - loss: 0.0449 - val_accuracy: 0.9775 - val_loss: 0.0768\n",
            "Epoch 7/10\n",
            "422/422 - 3s - 8ms/step - accuracy: 0.9889 - loss: 0.0368 - val_accuracy: 0.9778 - val_loss: 0.0753\n",
            "Epoch 8/10\n",
            "422/422 - 4s - 9ms/step - accuracy: 0.9912 - loss: 0.0297 - val_accuracy: 0.9767 - val_loss: 0.0885\n",
            "Epoch 9/10\n",
            "422/422 - 4s - 9ms/step - accuracy: 0.9933 - loss: 0.0236 - val_accuracy: 0.9778 - val_loss: 0.0801\n",
            "Epoch 10/10\n",
            "422/422 - 2s - 5ms/step - accuracy: 0.9940 - loss: 0.0197 - val_accuracy: 0.9748 - val_loss: 0.0893\n"
          ]
        }
      ]
    },
    {
      "cell_type": "code",
      "source": [
        "# 5. Evaluate model on test set\n",
        "test_loss, test_acc = model.evaluate(x_test, y_test, verbose=0)\n",
        "print(f\"Test Accuracy: {test_acc:.4f}\")\n",
        "print(f\"Test Loss: {test_loss:.4f}\")"
      ],
      "metadata": {
        "colab": {
          "base_uri": "https://localhost:8080/"
        },
        "id": "ar-fIaVrm0f0",
        "outputId": "e195227e-3e09-462f-913e-9ef97c7bf75d"
      },
      "execution_count": 10,
      "outputs": [
        {
          "output_type": "stream",
          "name": "stdout",
          "text": [
            "Test Accuracy: 0.9782\n",
            "Test Loss: 0.0767\n"
          ]
        }
      ]
    },
    {
      "cell_type": "code",
      "source": [
        "# 6. Plot training history\n",
        "plt.plot(history.history['accuracy'], label='Train Accuracy')\n",
        "plt.plot(history.history['val_accuracy'], label='Validation Accuracy')\n",
        "plt.xlabel('Epochs')\n",
        "plt.ylabel('Accuracy')\n",
        "plt.legend()\n",
        "plt.title(\"Model Accuracy over Epochs\")\n",
        "plt.show()"
      ],
      "metadata": {
        "colab": {
          "base_uri": "https://localhost:8080/",
          "height": 472
        },
        "id": "gnMO_a7sm2fj",
        "outputId": "b23a0bcc-f3ba-4fca-efaa-7b5e7f80bb0b"
      },
      "execution_count": 11,
      "outputs": [
        {
          "output_type": "display_data",
          "data": {
            "text/plain": [
              "<Figure size 640x480 with 1 Axes>"
            ],
            "image/png": "[encoded data removed]"
          },
          "metadata": {}
        }
      ]
    }
  ]
}